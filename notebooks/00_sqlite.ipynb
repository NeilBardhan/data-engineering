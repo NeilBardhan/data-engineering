{
 "cells": [
  {
   "cell_type": "markdown",
   "metadata": {},
   "source": [
    "# Working with Databases in Python using `sqlite` and `sqlalchemy`"
   ]
  },
  {
   "cell_type": "markdown",
   "metadata": {},
   "source": [
    "## SQLite using `sqlite3` CLI"
   ]
  },
  {
   "cell_type": "code",
   "execution_count": 1,
   "metadata": {},
   "outputs": [
    {
     "name": "stdout",
     "output_type": "stream",
     "text": [
      "/Users/neilbardhan/opt/anaconda3/bin/sqlite3\n"
     ]
    }
   ],
   "source": [
    "!which sqlite3"
   ]
  },
  {
   "cell_type": "markdown",
   "metadata": {},
   "source": [
    "### List all tables"
   ]
  },
  {
   "cell_type": "code",
   "execution_count": 12,
   "metadata": {},
   "outputs": [
    {
     "name": "stdout",
     "output_type": "stream",
     "text": [
      "author  book  \n"
     ]
    }
   ],
   "source": [
    "!sqlite3 data/db/books.db .tables"
   ]
  },
  {
   "cell_type": "markdown",
   "metadata": {},
   "source": [
    "`SELECT` Statements"
   ]
  },
  {
   "cell_type": "code",
   "execution_count": 13,
   "metadata": {},
   "outputs": [
    {
     "name": "stdout",
     "output_type": "stream",
     "text": [
      "1|Pearl|Buck\n",
      "2|Mark|Twain\n",
      "3|Tom|Clancy\n",
      "4|Isaac|Asimov\n"
     ]
    }
   ],
   "source": [
    "!sqlite3 data/db/books.db 'SELECT * FROM author;'"
   ]
  },
  {
   "cell_type": "code",
   "execution_count": 14,
   "metadata": {},
   "outputs": [
    {
     "name": "stdout",
     "output_type": "stream",
     "text": [
      "1|Foundation|4\n",
      "2|The Good Earth|1\n",
      "3|The Good Earth|1\n",
      "4|Adventures of Huckleberry Finn|2\n",
      "5|Life on the Mississippi|2\n",
      "6|The Hunt for Red October|3\n"
     ]
    }
   ],
   "source": [
    "!sqlite3 data/db/books.db 'SELECT * FROM book;'"
   ]
  },
  {
   "cell_type": "code",
   "execution_count": 23,
   "metadata": {},
   "outputs": [
    {
     "name": "stdout",
     "output_type": "stream",
     "text": [
      "SELECT b.title\n",
      "FROM author a JOIN book b\n",
      "ON b.author_id = a.author_id\n",
      "WHERE a.first_name = 'Mark' AND a.last_name = 'Twain';"
     ]
    }
   ],
   "source": [
    "!cat code/mark_twain.sql"
   ]
  },
  {
   "cell_type": "code",
   "execution_count": 22,
   "metadata": {},
   "outputs": [
    {
     "name": "stdout",
     "output_type": "stream",
     "text": [
      "Adventures of Huckleberry Finn\n",
      "Life on the Mississippi\n"
     ]
    }
   ],
   "source": [
    "!sqlite3 data/db/books.db < code/mark_twain.sql"
   ]
  },
  {
   "cell_type": "code",
   "execution_count": 26,
   "metadata": {},
   "outputs": [],
   "source": [
    "QUERY = \"\"\"\n",
    "SELECT\n",
    "a.first_name, a.last_name, b.title AS book_title\n",
    "FROM author a JOIN book b\n",
    "ON b.author_id = a.author_id\n",
    "ORDER BY a.last_name asc;\n",
    "\"\"\""
   ]
  },
  {
   "cell_type": "code",
   "execution_count": 27,
   "metadata": {},
   "outputs": [],
   "source": [
    "with open(\"code/author_names.sql\", \"w\") as code_file:\n",
    "    code_file.write(QUERY)"
   ]
  },
  {
   "cell_type": "code",
   "execution_count": 28,
   "metadata": {},
   "outputs": [
    {
     "name": "stdout",
     "output_type": "stream",
     "text": [
      "\n",
      "SELECT\n",
      "a.first_name, a.last_name, b.title AS book_title\n",
      "FROM author a JOIN book b\n",
      "ON b.author_id = a.author_id\n",
      "ORDER BY a.last_name asc;\n"
     ]
    }
   ],
   "source": [
    "!cat code/author_names.sql"
   ]
  },
  {
   "cell_type": "code",
   "execution_count": 29,
   "metadata": {},
   "outputs": [
    {
     "name": "stdout",
     "output_type": "stream",
     "text": [
      "Isaac|Asimov|Foundation\n",
      "Pearl|Buck|The Good Earth\n",
      "Pearl|Buck|The Good Earth\n",
      "Tom|Clancy|The Hunt for Red October\n",
      "Mark|Twain|Adventures of Huckleberry Finn\n",
      "Mark|Twain|Life on the Mississippi\n"
     ]
    }
   ],
   "source": [
    "!sqlite3 data/db/books.db < code/author_names.sql"
   ]
  }
 ],
 "metadata": {
  "kernelspec": {
   "display_name": "venv",
   "language": "python",
   "name": "python3"
  },
  "language_info": {
   "codemirror_mode": {
    "name": "ipython",
    "version": 3
   },
   "file_extension": ".py",
   "mimetype": "text/x-python",
   "name": "python",
   "nbconvert_exporter": "python",
   "pygments_lexer": "ipython3",
   "version": "3.11.7"
  }
 },
 "nbformat": 4,
 "nbformat_minor": 2
}
