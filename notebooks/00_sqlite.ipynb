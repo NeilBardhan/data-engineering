{
 "cells": [
  {
   "cell_type": "markdown",
   "metadata": {},
   "source": [
    "# Working with Databases in Python using `sqlite` and `sqlalchemy`"
   ]
  },
  {
   "cell_type": "markdown",
   "metadata": {},
   "source": [
    "## SQLite using `sqlite3` CLI"
   ]
  },
  {
   "cell_type": "code",
   "execution_count": 1,
   "metadata": {},
   "outputs": [
    {
     "name": "stdout",
     "output_type": "stream",
     "text": [
      "/Users/neilbardhan/opt/anaconda3/bin/sqlite3\n"
     ]
    }
   ],
   "source": [
    "!which sqlite3"
   ]
  },
  {
   "cell_type": "code",
   "execution_count": 2,
   "metadata": {},
   "outputs": [],
   "source": [
    "import os\n",
    "os.chdir('..')"
   ]
  },
  {
   "cell_type": "markdown",
   "metadata": {},
   "source": [
    "### List all tables"
   ]
  },
  {
   "cell_type": "code",
   "execution_count": 3,
   "metadata": {},
   "outputs": [
    {
     "name": "stdout",
     "output_type": "stream",
     "text": [
      "author  book  \n"
     ]
    }
   ],
   "source": [
    "!sqlite3 data/db/books.db .tables"
   ]
  },
  {
   "cell_type": "markdown",
   "metadata": {},
   "source": [
    "### `SELECT` Statements"
   ]
  },
  {
   "cell_type": "code",
   "execution_count": 4,
   "metadata": {},
   "outputs": [
    {
     "name": "stdout",
     "output_type": "stream",
     "text": [
      "1|Pearl|Buck\n",
      "2|Mark|Twain\n",
      "3|Tom|Clancy\n",
      "4|Isaac|Asimov\n"
     ]
    }
   ],
   "source": [
    "!sqlite3 data/db/books.db 'SELECT * FROM author;'"
   ]
  },
  {
   "cell_type": "code",
   "execution_count": 5,
   "metadata": {},
   "outputs": [
    {
     "name": "stdout",
     "output_type": "stream",
     "text": [
      "1|Foundation|4\n",
      "2|The Good Earth|1\n",
      "3|The Good Earth|1\n",
      "4|Adventures of Huckleberry Finn|2\n",
      "5|Life on the Mississippi|2\n",
      "6|The Hunt for Red October|3\n"
     ]
    }
   ],
   "source": [
    "!sqlite3 data/db/books.db 'SELECT * FROM book;'"
   ]
  },
  {
   "cell_type": "markdown",
   "metadata": {},
   "source": [
    "### Working with `.sql` files"
   ]
  },
  {
   "cell_type": "markdown",
   "metadata": {},
   "source": [
    "`.sql` files allow us to persist queries that we would like to run against a database."
   ]
  },
  {
   "cell_type": "code",
   "execution_count": 6,
   "metadata": {},
   "outputs": [],
   "source": [
    "QUERY = \"\"\"\n",
    "SELECT\n",
    "a.first_name, a.last_name, b.title AS book_title\n",
    "FROM author a JOIN book b\n",
    "ON b.author_id = a.author_id\n",
    "ORDER BY a.last_name asc;\n",
    "\"\"\""
   ]
  },
  {
   "cell_type": "code",
   "execution_count": 7,
   "metadata": {},
   "outputs": [],
   "source": [
    "with open(\"code/book_author_names.sql\", \"w\") as code_file:\n",
    "    code_file.write(QUERY)"
   ]
  },
  {
   "cell_type": "code",
   "execution_count": 8,
   "metadata": {},
   "outputs": [
    {
     "name": "stdout",
     "output_type": "stream",
     "text": [
      "\n",
      "SELECT\n",
      "a.first_name, a.last_name, b.title AS book_title\n",
      "FROM author a JOIN book b\n",
      "ON b.author_id = a.author_id\n",
      "ORDER BY a.last_name asc;\n"
     ]
    }
   ],
   "source": [
    "!cat code/book_author_names.sql"
   ]
  },
  {
   "cell_type": "code",
   "execution_count": 9,
   "metadata": {},
   "outputs": [
    {
     "name": "stdout",
     "output_type": "stream",
     "text": [
      "Isaac|Asimov|Foundation\n",
      "Pearl|Buck|The Good Earth\n",
      "Pearl|Buck|The Good Earth\n",
      "Tom|Clancy|The Hunt for Red October\n",
      "Mark|Twain|Adventures of Huckleberry Finn\n",
      "Mark|Twain|Life on the Mississippi\n"
     ]
    }
   ],
   "source": [
    "!sqlite3 data/db/books.db < code/book_author_names.sql"
   ]
  },
  {
   "cell_type": "code",
   "execution_count": 10,
   "metadata": {},
   "outputs": [
    {
     "name": "stdout",
     "output_type": "stream",
     "text": [
      "SELECT b.title\n",
      "FROM author a JOIN book b\n",
      "ON b.author_id = a.author_id\n",
      "WHERE a.first_name = 'Mark' AND a.last_name = 'Twain';"
     ]
    }
   ],
   "source": [
    "!cat code/mark_twain.sql"
   ]
  },
  {
   "cell_type": "code",
   "execution_count": 11,
   "metadata": {},
   "outputs": [
    {
     "name": "stdout",
     "output_type": "stream",
     "text": [
      "Adventures of Huckleberry Finn\n",
      "Life on the Mississippi\n"
     ]
    }
   ],
   "source": [
    "!sqlite3 data/db/books.db < code/mark_twain.sql"
   ]
  },
  {
   "cell_type": "markdown",
   "metadata": {},
   "source": [
    "## SQLite using the `sqlite` module"
   ]
  },
  {
   "cell_type": "code",
   "execution_count": 12,
   "metadata": {},
   "outputs": [],
   "source": [
    "import sqlite3\n",
    "import pandas as pd"
   ]
  },
  {
   "cell_type": "code",
   "execution_count": 13,
   "metadata": {},
   "outputs": [],
   "source": [
    "DB_PATH = os.getcwd() + '/data/db/'\n",
    "DB_FILE = 'books.db'"
   ]
  },
  {
   "cell_type": "markdown",
   "metadata": {},
   "source": [
    "### Create a connection to the database"
   ]
  },
  {
   "cell_type": "code",
   "execution_count": 14,
   "metadata": {},
   "outputs": [
    {
     "data": {
      "text/plain": [
       "0"
      ]
     },
     "execution_count": 14,
     "metadata": {},
     "output_type": "execute_result"
    }
   ],
   "source": [
    "conn = sqlite3.connect(DB_PATH + DB_FILE)\n",
    "conn.total_changes"
   ]
  },
  {
   "cell_type": "markdown",
   "metadata": {},
   "source": [
    "The `sqlite3.connect()` function - \n",
    "\n",
    "  - Returns a `Connection` object that is used to interact with the SQLite database in `books.db`. \n",
    "  - If `books.db` had not existed prior to running the above code, it would have been created in the `DB_PATH` folder location.\n",
    "  \n",
    "`conn.total_changes` is the total number of database rows that have been changed by `conn`. Since we have not executed any SQL commands yet, 0 total_changes is correct."
   ]
  },
  {
   "cell_type": "markdown",
   "metadata": {},
   "source": [
    "### Run queries using the `cursor`"
   ]
  },
  {
   "cell_type": "code",
   "execution_count": 15,
   "metadata": {},
   "outputs": [],
   "source": [
    "cursor = conn.cursor()"
   ]
  },
  {
   "cell_type": "markdown",
   "metadata": {},
   "source": [
    "`connection.cursor()` returns a `Cursor` object. `Cursor` objects allow us to send SQL statements to a SQLite database using `cursor.execute()`."
   ]
  },
  {
   "cell_type": "code",
   "execution_count": 16,
   "metadata": {},
   "outputs": [
    {
     "name": "stdout",
     "output_type": "stream",
     "text": [
      "['__class__', '__delattr__', '__dir__', '__doc__', '__eq__', '__format__', '__ge__', '__getattribute__', '__getstate__', '__gt__', '__hash__', '__init__', '__init_subclass__', '__iter__', '__le__', '__lt__', '__module__', '__ne__', '__new__', '__next__', '__reduce__', '__reduce_ex__', '__repr__', '__setattr__', '__sizeof__', '__str__', '__subclasshook__', 'arraysize', 'close', 'connection', 'description', 'execute', 'executemany', 'executescript', 'fetchall', 'fetchmany', 'fetchone', 'lastrowid', 'row_factory', 'rowcount', 'setinputsizes', 'setoutputsize']\n"
     ]
    }
   ],
   "source": [
    "print(dir(cursor))"
   ]
  },
  {
   "cell_type": "code",
   "execution_count": 17,
   "metadata": {},
   "outputs": [
    {
     "data": {
      "text/plain": [
       "[(1, 'Foundation', 4),\n",
       " (2, 'The Good Earth', 1),\n",
       " (3, 'The Good Earth', 1),\n",
       " (4, 'Adventures of Huckleberry Finn', 2),\n",
       " (5, 'Life on the Mississippi', 2),\n",
       " (6, 'The Hunt for Red October', 3)]"
      ]
     },
     "execution_count": 17,
     "metadata": {},
     "output_type": "execute_result"
    }
   ],
   "source": [
    "select_query = \"\"\"\n",
    "SELECT * FROM book;\n",
    "\"\"\"\n",
    "rows = cursor.execute(select_query).fetchall()\n",
    "rows"
   ]
  },
  {
   "cell_type": "code",
   "execution_count": 18,
   "metadata": {},
   "outputs": [
    {
     "data": {
      "text/html": [
       "<div>\n",
       "<style scoped>\n",
       "    .dataframe tbody tr th:only-of-type {\n",
       "        vertical-align: middle;\n",
       "    }\n",
       "\n",
       "    .dataframe tbody tr th {\n",
       "        vertical-align: top;\n",
       "    }\n",
       "\n",
       "    .dataframe thead th {\n",
       "        text-align: right;\n",
       "    }\n",
       "</style>\n",
       "<table border=\"1\" class=\"dataframe\">\n",
       "  <thead>\n",
       "    <tr style=\"text-align: right;\">\n",
       "      <th></th>\n",
       "      <th>book_id</th>\n",
       "      <th>title</th>\n",
       "      <th>author_id</th>\n",
       "    </tr>\n",
       "  </thead>\n",
       "  <tbody>\n",
       "    <tr>\n",
       "      <th>0</th>\n",
       "      <td>1</td>\n",
       "      <td>Foundation</td>\n",
       "      <td>4</td>\n",
       "    </tr>\n",
       "    <tr>\n",
       "      <th>1</th>\n",
       "      <td>2</td>\n",
       "      <td>The Good Earth</td>\n",
       "      <td>1</td>\n",
       "    </tr>\n",
       "    <tr>\n",
       "      <th>2</th>\n",
       "      <td>3</td>\n",
       "      <td>The Good Earth</td>\n",
       "      <td>1</td>\n",
       "    </tr>\n",
       "    <tr>\n",
       "      <th>3</th>\n",
       "      <td>4</td>\n",
       "      <td>Adventures of Huckleberry Finn</td>\n",
       "      <td>2</td>\n",
       "    </tr>\n",
       "    <tr>\n",
       "      <th>4</th>\n",
       "      <td>5</td>\n",
       "      <td>Life on the Mississippi</td>\n",
       "      <td>2</td>\n",
       "    </tr>\n",
       "    <tr>\n",
       "      <th>5</th>\n",
       "      <td>6</td>\n",
       "      <td>The Hunt for Red October</td>\n",
       "      <td>3</td>\n",
       "    </tr>\n",
       "  </tbody>\n",
       "</table>\n",
       "</div>"
      ],
      "text/plain": [
       "   book_id                           title  author_id\n",
       "0        1                      Foundation          4\n",
       "1        2                  The Good Earth          1\n",
       "2        3                  The Good Earth          1\n",
       "3        4  Adventures of Huckleberry Finn          2\n",
       "4        5         Life on the Mississippi          2\n",
       "5        6        The Hunt for Red October          3"
      ]
     },
     "execution_count": 18,
     "metadata": {},
     "output_type": "execute_result"
    }
   ],
   "source": [
    "rows_df = pd.read_sql_query(select_query, conn)\n",
    "rows_df"
   ]
  },
  {
   "cell_type": "code",
   "execution_count": 19,
   "metadata": {},
   "outputs": [
    {
     "data": {
      "text/html": [
       "<div>\n",
       "<style scoped>\n",
       "    .dataframe tbody tr th:only-of-type {\n",
       "        vertical-align: middle;\n",
       "    }\n",
       "\n",
       "    .dataframe tbody tr th {\n",
       "        vertical-align: top;\n",
       "    }\n",
       "\n",
       "    .dataframe thead th {\n",
       "        text-align: right;\n",
       "    }\n",
       "</style>\n",
       "<table border=\"1\" class=\"dataframe\">\n",
       "  <thead>\n",
       "    <tr style=\"text-align: right;\">\n",
       "      <th></th>\n",
       "      <th>first_name</th>\n",
       "      <th>last_name</th>\n",
       "      <th>book_title</th>\n",
       "    </tr>\n",
       "  </thead>\n",
       "  <tbody>\n",
       "    <tr>\n",
       "      <th>0</th>\n",
       "      <td>Isaac</td>\n",
       "      <td>Asimov</td>\n",
       "      <td>Foundation</td>\n",
       "    </tr>\n",
       "    <tr>\n",
       "      <th>1</th>\n",
       "      <td>Pearl</td>\n",
       "      <td>Buck</td>\n",
       "      <td>The Good Earth</td>\n",
       "    </tr>\n",
       "    <tr>\n",
       "      <th>2</th>\n",
       "      <td>Pearl</td>\n",
       "      <td>Buck</td>\n",
       "      <td>The Good Earth</td>\n",
       "    </tr>\n",
       "    <tr>\n",
       "      <th>3</th>\n",
       "      <td>Tom</td>\n",
       "      <td>Clancy</td>\n",
       "      <td>The Hunt for Red October</td>\n",
       "    </tr>\n",
       "    <tr>\n",
       "      <th>4</th>\n",
       "      <td>Mark</td>\n",
       "      <td>Twain</td>\n",
       "      <td>Adventures of Huckleberry Finn</td>\n",
       "    </tr>\n",
       "    <tr>\n",
       "      <th>5</th>\n",
       "      <td>Mark</td>\n",
       "      <td>Twain</td>\n",
       "      <td>Life on the Mississippi</td>\n",
       "    </tr>\n",
       "  </tbody>\n",
       "</table>\n",
       "</div>"
      ],
      "text/plain": [
       "  first_name last_name                      book_title\n",
       "0      Isaac    Asimov                      Foundation\n",
       "1      Pearl      Buck                  The Good Earth\n",
       "2      Pearl      Buck                  The Good Earth\n",
       "3        Tom    Clancy        The Hunt for Red October\n",
       "4       Mark     Twain  Adventures of Huckleberry Finn\n",
       "5       Mark     Twain         Life on the Mississippi"
      ]
     },
     "execution_count": 19,
     "metadata": {},
     "output_type": "execute_result"
    }
   ],
   "source": [
    "book_authors_df = pd.read_sql_query(QUERY, conn)\n",
    "book_authors_df"
   ]
  },
  {
   "cell_type": "code",
   "execution_count": 20,
   "metadata": {},
   "outputs": [],
   "source": [
    "conn.close()"
   ]
  }
 ],
 "metadata": {
  "kernelspec": {
   "display_name": "venv",
   "language": "python",
   "name": "python3"
  },
  "language_info": {
   "codemirror_mode": {
    "name": "ipython",
    "version": 3
   },
   "file_extension": ".py",
   "mimetype": "text/x-python",
   "name": "python",
   "nbconvert_exporter": "python",
   "pygments_lexer": "ipython3",
   "version": "3.11.7"
  }
 },
 "nbformat": 4,
 "nbformat_minor": 2
}
